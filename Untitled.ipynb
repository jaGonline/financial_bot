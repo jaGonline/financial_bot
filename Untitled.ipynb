{
 "cells": [
  {
   "cell_type": "code",
   "execution_count": 1,
   "id": "5d716e78-dd90-4a99-8c83-5b41d8c6430f",
   "metadata": {},
   "outputs": [],
   "source": [
    "import pandas as pd"
   ]
  },
  {
   "cell_type": "code",
   "execution_count": 2,
   "id": "7c88bf43-c6d0-4a6b-a6e9-a6e95897f3af",
   "metadata": {},
   "outputs": [
    {
     "data": {
      "text/html": [
       "<div>\n",
       "<style scoped>\n",
       "    .dataframe tbody tr th:only-of-type {\n",
       "        vertical-align: middle;\n",
       "    }\n",
       "\n",
       "    .dataframe tbody tr th {\n",
       "        vertical-align: top;\n",
       "    }\n",
       "\n",
       "    .dataframe thead th {\n",
       "        text-align: right;\n",
       "    }\n",
       "</style>\n",
       "<table border=\"1\" class=\"dataframe\">\n",
       "  <thead>\n",
       "    <tr style=\"text-align: right;\">\n",
       "      <th></th>\n",
       "      <th>Date</th>\n",
       "      <th>Value Date</th>\n",
       "      <th>Particulars</th>\n",
       "      <th>Tran Type</th>\n",
       "      <th>Cheque Details</th>\n",
       "      <th>Withdrawals</th>\n",
       "      <th>Deposits</th>\n",
       "      <th>Balance</th>\n",
       "      <th>Dr/Cr</th>\n",
       "      <th>Month</th>\n",
       "      <th>Year</th>\n",
       "    </tr>\n",
       "  </thead>\n",
       "  <tbody>\n",
       "    <tr>\n",
       "      <th>0</th>\n",
       "      <td>2023-04-27</td>\n",
       "      <td>2023-04-27</td>\n",
       "      <td>UPI IN/311758050505/8861843097@jupiteraxis\\n/A...</td>\n",
       "      <td>TFR</td>\n",
       "      <td>NaN</td>\n",
       "      <td>NaN</td>\n",
       "      <td>250.0</td>\n",
       "      <td>250.0</td>\n",
       "      <td>Cr</td>\n",
       "      <td>04-2023</td>\n",
       "      <td>2023</td>\n",
       "    </tr>\n",
       "    <tr>\n",
       "      <th>1</th>\n",
       "      <td>2023-12-06</td>\n",
       "      <td>2023-12-06</td>\n",
       "      <td>FT IMPS/IFI/316316641590/DIVINE\\nENTERPRISE/IM...</td>\n",
       "      <td>TFR</td>\n",
       "      <td>NaN</td>\n",
       "      <td>NaN</td>\n",
       "      <td>950.0</td>\n",
       "      <td>1200.0</td>\n",
       "      <td>Cr</td>\n",
       "      <td>12-2023</td>\n",
       "      <td>2023</td>\n",
       "    </tr>\n",
       "    <tr>\n",
       "      <th>2</th>\n",
       "      <td>2023-06-24</td>\n",
       "      <td>2023-06-24</td>\n",
       "      <td>UPIOUT/317523606163/8861843097@paytm/Sent\\nvi/...</td>\n",
       "      <td>TFR</td>\n",
       "      <td>NaN</td>\n",
       "      <td>1000.0</td>\n",
       "      <td>NaN</td>\n",
       "      <td>200.0</td>\n",
       "      <td>Dr</td>\n",
       "      <td>06-2023</td>\n",
       "      <td>2023</td>\n",
       "    </tr>\n",
       "    <tr>\n",
       "      <th>3</th>\n",
       "      <td>2023-06-24</td>\n",
       "      <td>2023-06-23</td>\n",
       "      <td>SBINT:25-03-2023 to\\n23-06-2023[77770126484589]</td>\n",
       "      <td>TFR</td>\n",
       "      <td>NaN</td>\n",
       "      <td>NaN</td>\n",
       "      <td>2.0</td>\n",
       "      <td>202.0</td>\n",
       "      <td>Cr</td>\n",
       "      <td>06-2023</td>\n",
       "      <td>2023</td>\n",
       "    </tr>\n",
       "    <tr>\n",
       "      <th>4</th>\n",
       "      <td>2023-09-09</td>\n",
       "      <td>2023-09-09</td>\n",
       "      <td>UPIOUT/325215817888/Q281961035@ybl/Sent\\nvia /...</td>\n",
       "      <td>TFR</td>\n",
       "      <td>NaN</td>\n",
       "      <td>190.0</td>\n",
       "      <td>NaN</td>\n",
       "      <td>12.0</td>\n",
       "      <td>Dr</td>\n",
       "      <td>09-2023</td>\n",
       "      <td>2023</td>\n",
       "    </tr>\n",
       "    <tr>\n",
       "      <th>...</th>\n",
       "      <td>...</td>\n",
       "      <td>...</td>\n",
       "      <td>...</td>\n",
       "      <td>...</td>\n",
       "      <td>...</td>\n",
       "      <td>...</td>\n",
       "      <td>...</td>\n",
       "      <td>...</td>\n",
       "      <td>...</td>\n",
       "      <td>...</td>\n",
       "      <td>...</td>\n",
       "    </tr>\n",
       "    <tr>\n",
       "      <th>65</th>\n",
       "      <td>2024-03-31</td>\n",
       "      <td>2024-01-04</td>\n",
       "      <td>UPIOUT/409296418015/upstoxsec@hdfcbank/UPI\\n/6211</td>\n",
       "      <td>TFR</td>\n",
       "      <td>NaN</td>\n",
       "      <td>1500.0</td>\n",
       "      <td>NaN</td>\n",
       "      <td>931.1</td>\n",
       "      <td>Dr</td>\n",
       "      <td>03-2024</td>\n",
       "      <td>2024</td>\n",
       "    </tr>\n",
       "    <tr>\n",
       "      <th>66</th>\n",
       "      <td>2024-03-31</td>\n",
       "      <td>2024-01-04</td>\n",
       "      <td>UPIOUT/409293938565/ajeettraders@sbi/Sent\\nvi/...</td>\n",
       "      <td>TFR</td>\n",
       "      <td>NaN</td>\n",
       "      <td>900.0</td>\n",
       "      <td>NaN</td>\n",
       "      <td>31.1</td>\n",
       "      <td>Dr</td>\n",
       "      <td>03-2024</td>\n",
       "      <td>2024</td>\n",
       "    </tr>\n",
       "    <tr>\n",
       "      <th>67</th>\n",
       "      <td>2024-03-31</td>\n",
       "      <td>2024-01-04</td>\n",
       "      <td>UPI IN/409208422414/mgh1306@okhdfcbank/UPI\\n/0000</td>\n",
       "      <td>TFR</td>\n",
       "      <td>NaN</td>\n",
       "      <td>NaN</td>\n",
       "      <td>500.0</td>\n",
       "      <td>531.1</td>\n",
       "      <td>Cr</td>\n",
       "      <td>03-2024</td>\n",
       "      <td>2024</td>\n",
       "    </tr>\n",
       "    <tr>\n",
       "      <th>68</th>\n",
       "      <td>2024-03-31</td>\n",
       "      <td>2024-01-04</td>\n",
       "      <td>UPIOUT/409294275728/Q288767409@ybl/Sent\\nvia /...</td>\n",
       "      <td>TFR</td>\n",
       "      <td>NaN</td>\n",
       "      <td>230.0</td>\n",
       "      <td>NaN</td>\n",
       "      <td>301.1</td>\n",
       "      <td>Dr</td>\n",
       "      <td>03-2024</td>\n",
       "      <td>2024</td>\n",
       "    </tr>\n",
       "    <tr>\n",
       "      <th>69</th>\n",
       "      <td>2024-03-31</td>\n",
       "      <td>2024-01-04</td>\n",
       "      <td>UPIOUT/409294317396/paytmqr1l3ibf6t01@payt\\nm/...</td>\n",
       "      <td>TFR</td>\n",
       "      <td>NaN</td>\n",
       "      <td>20.0</td>\n",
       "      <td>NaN</td>\n",
       "      <td>281.1</td>\n",
       "      <td>Dr</td>\n",
       "      <td>03-2024</td>\n",
       "      <td>2024</td>\n",
       "    </tr>\n",
       "  </tbody>\n",
       "</table>\n",
       "<p>70 rows × 11 columns</p>\n",
       "</div>"
      ],
      "text/plain": [
       "          Date  Value Date                                        Particulars  \\\n",
       "0   2023-04-27  2023-04-27  UPI IN/311758050505/8861843097@jupiteraxis\\n/A...   \n",
       "1   2023-12-06  2023-12-06  FT IMPS/IFI/316316641590/DIVINE\\nENTERPRISE/IM...   \n",
       "2   2023-06-24  2023-06-24  UPIOUT/317523606163/8861843097@paytm/Sent\\nvi/...   \n",
       "3   2023-06-24  2023-06-23    SBINT:25-03-2023 to\\n23-06-2023[77770126484589]   \n",
       "4   2023-09-09  2023-09-09  UPIOUT/325215817888/Q281961035@ybl/Sent\\nvia /...   \n",
       "..         ...         ...                                                ...   \n",
       "65  2024-03-31  2024-01-04  UPIOUT/409296418015/upstoxsec@hdfcbank/UPI\\n/6211   \n",
       "66  2024-03-31  2024-01-04  UPIOUT/409293938565/ajeettraders@sbi/Sent\\nvi/...   \n",
       "67  2024-03-31  2024-01-04  UPI IN/409208422414/mgh1306@okhdfcbank/UPI\\n/0000   \n",
       "68  2024-03-31  2024-01-04  UPIOUT/409294275728/Q288767409@ybl/Sent\\nvia /...   \n",
       "69  2024-03-31  2024-01-04  UPIOUT/409294317396/paytmqr1l3ibf6t01@payt\\nm/...   \n",
       "\n",
       "   Tran Type  Cheque Details  Withdrawals  Deposits  Balance Dr/Cr    Month  \\\n",
       "0        TFR             NaN          NaN     250.0    250.0    Cr  04-2023   \n",
       "1        TFR             NaN          NaN     950.0   1200.0    Cr  12-2023   \n",
       "2        TFR             NaN       1000.0       NaN    200.0    Dr  06-2023   \n",
       "3        TFR             NaN          NaN       2.0    202.0    Cr  06-2023   \n",
       "4        TFR             NaN        190.0       NaN     12.0    Dr  09-2023   \n",
       "..       ...             ...          ...       ...      ...   ...      ...   \n",
       "65       TFR             NaN       1500.0       NaN    931.1    Dr  03-2024   \n",
       "66       TFR             NaN        900.0       NaN     31.1    Dr  03-2024   \n",
       "67       TFR             NaN          NaN     500.0    531.1    Cr  03-2024   \n",
       "68       TFR             NaN        230.0       NaN    301.1    Dr  03-2024   \n",
       "69       TFR             NaN         20.0       NaN    281.1    Dr  03-2024   \n",
       "\n",
       "    Year  \n",
       "0   2023  \n",
       "1   2023  \n",
       "2   2023  \n",
       "3   2023  \n",
       "4   2023  \n",
       "..   ...  \n",
       "65  2024  \n",
       "66  2024  \n",
       "67  2024  \n",
       "68  2024  \n",
       "69  2024  \n",
       "\n",
       "[70 rows x 11 columns]"
      ]
     },
     "execution_count": 2,
     "metadata": {},
     "output_type": "execute_result"
    }
   ],
   "source": [
    "df = pd.read_csv(r\"C:\\Users\\zineb\\Data Science\\Projects\\Bank Statement Bot\\cleaned_bank_statement.csv\")\n",
    "df"
   ]
  },
  {
   "cell_type": "code",
   "execution_count": 5,
   "id": "0497cec6-a061-427e-a3c2-1764f5733763",
   "metadata": {},
   "outputs": [
    {
     "data": {
      "text/plain": [
       "Withdrawals    6945.3\n",
       "Deposits       7050.0\n",
       "dtype: float64"
      ]
     },
     "execution_count": 5,
     "metadata": {},
     "output_type": "execute_result"
    }
   ],
   "source": [
    "df[['Withdrawals','Deposits']].max()"
   ]
  },
  {
   "cell_type": "code",
   "execution_count": 7,
   "id": "1c1772ff-f451-4028-92f6-591a88ba4696",
   "metadata": {},
   "outputs": [
    {
     "data": {
      "text/plain": [
       "array([nan], dtype=object)"
      ]
     },
     "execution_count": 7,
     "metadata": {},
     "output_type": "execute_result"
    }
   ],
   "source": [
    "df['Particulars'].str.extract('(UPI)(paytm)')[1].unique()"
   ]
  },
  {
   "cell_type": "code",
   "execution_count": 9,
   "id": "13b460b4-4b97-4a56-90d8-b9bff43ed1de",
   "metadata": {},
   "outputs": [
    {
     "data": {
      "text/plain": [
       "Month\n",
       "03-2024    43\n",
       "12-2023    11\n",
       "11-2024     4\n",
       "01-2024     3\n",
       "10-2024     3\n",
       "06-2023     2\n",
       "09-2023     2\n",
       "04-2023     1\n",
       "02-2024     1\n",
       "Name: count, dtype: int64"
      ]
     },
     "execution_count": 9,
     "metadata": {},
     "output_type": "execute_result"
    }
   ],
   "source": [
    "df['Month'].value_counts()"
   ]
  },
  {
   "cell_type": "code",
   "execution_count": 11,
   "id": "264f8023-0686-4a23-9bb5-af89e463c7c9",
   "metadata": {},
   "outputs": [],
   "source": [
    "import pdfplumber"
   ]
  },
  {
   "cell_type": "code",
   "execution_count": 13,
   "id": "d44c3a10-4434-43b0-ad35-732c7933221c",
   "metadata": {},
   "outputs": [
    {
     "name": "stdout",
     "output_type": "stream",
     "text": [
      "[[['Date', 'Narration', 'Chq./Ref.No.', 'ValueDt', 'WithdrawalAmt.', 'DepositAmt.', 'ClosingBalance'], ['01/04/23\\n01/04/23\\n01/04/23\\n02/04/23\\n02/04/23\\n04/04/23\\n04/04/23\\n05/04/23\\n05/04/23\\n06/04/23\\n07/04/23\\n07/04/23\\n08/04/23\\n09/04/23', 'UPI-THOMASSEKAR-GLACIERLVL20888@OKSBI-U\\nTIB0003905-309145197143-LUNCH\\nUPI-SIVAKUMAR\\nM-SHIVAMSW@OKHDFCBANK-HDFC\\n0000111-309145207101-UPI\\nUPI-KIRANRAJSOLAI-FRANCISKIKI45@OKHDFC\\nBANK-HDFC0001852-309154627921-HI\\nUPI-SELVAMNAGARAJ252OKIC-SELVAMNAGARAJ25\\n-2@OKICICI-UBIN0915033-345816733183-UPI\\nUPI-LAZYPAYPRIVATELIMI-LAZYPAYPVTLTD.R\\nZP@ICICI-ICIC0DC0099-309287396734-LAZYPA\\nYREPAYMENT\\nUPI-SRIMAHADEVENTERPRI-BHARATPE9072393\\n4830@YESBANKLTD-YESB0YESUPI-309418379139\\n-PAYTOBHARATPEME\\nATW-541919XXXXXX4630-P3ENCE35-CHENNAI\\nUPI-TEABREAK-PAYTMQR281005050101EMU3C98\\nR01MS@PAYTM-PYTM0123456-309553845053-FOO\\nD\\nUPI-BIGBASKET-BIGBASKET1@PAYTM-PYTM01234\\n56-309564806458-UPI\\nUPI-MRSTHENMOZHIE-SILAMBUOSSS@OKSBI-ID\\nIB000O026-346257382147-HI\\nPOS541919XXXXXX4630SRIAMBIKASUPER\\nUPI-GOOGLEINDIADIGITAL-PLAYSTORE-GAMES\\n@AXISBANK-UTIB0000553-309712099919-UPI\\nUPI-MASTERSAKTHIVIJAYA-SHAKTHIVIJAYKUM\\nAR757@OKAXIS-IDIB000P180-346447306534-SE\\nNTFROMPAYTM\\nUPI-MRSTHENMOZHIE-SILAMBUOSSS@OKSBI-ID', '0000309145197143\\n0000309145207101\\n0000309154627921\\n0000345816733183\\n0000309287396734\\n0000309418379139\\n0000000000006577\\n0000309553845053\\n0000309564806458\\n0000346257382147\\n0000000000261486\\n0000309712099919\\n0000346447306534\\n0000309942707541', '01/04/23\\n01/04/23\\n01/04/23\\n02/04/23\\n02/04/23\\n04/04/23\\n04/04/23\\n05/04/23\\n05/04/23\\n06/04/23\\n07/04/23\\n07/04/23\\n08/04/23\\n09/04/23', '520.00\\n100.00\\n215.00\\n1,969.00\\n100.00\\n500.00\\n170.00\\n259.62\\n300.00\\n244.00\\n170.00\\n374.00\\n200.00', '550.00', '19,856.68\\n20,406.68\\n20,306.68\\n20,091.68\\n18,122.68\\n18,022.68\\n17,522.68\\n17,352.68\\n17,093.06\\n16,793.06\\n16,549.06\\n16,379.06\\n16,005.06\\n15,805.06']]]\n"
     ]
    }
   ],
   "source": [
    "with pdfplumber.open(r\"C:\\Users\\zineb\\Downloads\\Acc_Statement.pdf\") as pdf:\n",
    "    firstpage = pdf.pages[0]\n",
    "    text = firstpage.extract_text()  \n",
    "    table = firstpage.extract_tables()\n",
    "    print(table)"
   ]
  },
  {
   "cell_type": "code",
   "execution_count": 15,
   "id": "b0b055d9-fe35-41ca-8d5c-7e8a8d6a6dcc",
   "metadata": {},
   "outputs": [
    {
     "data": {
      "text/plain": [
       "['Date',\n",
       " 'Narration',\n",
       " 'Chq./Ref.No.',\n",
       " 'ValueDt',\n",
       " 'WithdrawalAmt.',\n",
       " 'DepositAmt.',\n",
       " 'ClosingBalance']"
      ]
     },
     "execution_count": 15,
     "metadata": {},
     "output_type": "execute_result"
    }
   ],
   "source": [
    "table[0][0]"
   ]
  },
  {
   "cell_type": "code",
   "execution_count": 17,
   "id": "fd488bee-1a32-43f0-944d-aef4c785736c",
   "metadata": {},
   "outputs": [
    {
     "data": {
      "text/plain": [
       "[['Date',\n",
       "  'Narration',\n",
       "  'Chq./Ref.No.',\n",
       "  'ValueDt',\n",
       "  'WithdrawalAmt.',\n",
       "  'DepositAmt.',\n",
       "  'ClosingBalance'],\n",
       " ['01/04/23\\n01/04/23\\n01/04/23\\n02/04/23\\n02/04/23\\n04/04/23\\n04/04/23\\n05/04/23\\n05/04/23\\n06/04/23\\n07/04/23\\n07/04/23\\n08/04/23\\n09/04/23',\n",
       "  'UPI-THOMASSEKAR-GLACIERLVL20888@OKSBI-U\\nTIB0003905-309145197143-LUNCH\\nUPI-SIVAKUMAR\\nM-SHIVAMSW@OKHDFCBANK-HDFC\\n0000111-309145207101-UPI\\nUPI-KIRANRAJSOLAI-FRANCISKIKI45@OKHDFC\\nBANK-HDFC0001852-309154627921-HI\\nUPI-SELVAMNAGARAJ252OKIC-SELVAMNAGARAJ25\\n-2@OKICICI-UBIN0915033-345816733183-UPI\\nUPI-LAZYPAYPRIVATELIMI-LAZYPAYPVTLTD.R\\nZP@ICICI-ICIC0DC0099-309287396734-LAZYPA\\nYREPAYMENT\\nUPI-SRIMAHADEVENTERPRI-BHARATPE9072393\\n4830@YESBANKLTD-YESB0YESUPI-309418379139\\n-PAYTOBHARATPEME\\nATW-541919XXXXXX4630-P3ENCE35-CHENNAI\\nUPI-TEABREAK-PAYTMQR281005050101EMU3C98\\nR01MS@PAYTM-PYTM0123456-309553845053-FOO\\nD\\nUPI-BIGBASKET-BIGBASKET1@PAYTM-PYTM01234\\n56-309564806458-UPI\\nUPI-MRSTHENMOZHIE-SILAMBUOSSS@OKSBI-ID\\nIB000O026-346257382147-HI\\nPOS541919XXXXXX4630SRIAMBIKASUPER\\nUPI-GOOGLEINDIADIGITAL-PLAYSTORE-GAMES\\n@AXISBANK-UTIB0000553-309712099919-UPI\\nUPI-MASTERSAKTHIVIJAYA-SHAKTHIVIJAYKUM\\nAR757@OKAXIS-IDIB000P180-346447306534-SE\\nNTFROMPAYTM\\nUPI-MRSTHENMOZHIE-SILAMBUOSSS@OKSBI-ID',\n",
       "  '0000309145197143\\n0000309145207101\\n0000309154627921\\n0000345816733183\\n0000309287396734\\n0000309418379139\\n0000000000006577\\n0000309553845053\\n0000309564806458\\n0000346257382147\\n0000000000261486\\n0000309712099919\\n0000346447306534\\n0000309942707541',\n",
       "  '01/04/23\\n01/04/23\\n01/04/23\\n02/04/23\\n02/04/23\\n04/04/23\\n04/04/23\\n05/04/23\\n05/04/23\\n06/04/23\\n07/04/23\\n07/04/23\\n08/04/23\\n09/04/23',\n",
       "  '520.00\\n100.00\\n215.00\\n1,969.00\\n100.00\\n500.00\\n170.00\\n259.62\\n300.00\\n244.00\\n170.00\\n374.00\\n200.00',\n",
       "  '550.00',\n",
       "  '19,856.68\\n20,406.68\\n20,306.68\\n20,091.68\\n18,122.68\\n18,022.68\\n17,522.68\\n17,352.68\\n17,093.06\\n16,793.06\\n16,549.06\\n16,379.06\\n16,005.06\\n15,805.06']]"
      ]
     },
     "execution_count": 17,
     "metadata": {},
     "output_type": "execute_result"
    }
   ],
   "source": [
    "table[0]"
   ]
  },
  {
   "cell_type": "code",
   "execution_count": 1,
   "id": "9232b315-39fa-47f1-839b-90a1d0cf1e9a",
   "metadata": {},
   "outputs": [],
   "source": [
    "from tabula import read_pdf"
   ]
  },
  {
   "cell_type": "code",
   "execution_count": 3,
   "id": "c762fb25-83d8-4e1f-bfc3-d2db22334db4",
   "metadata": {},
   "outputs": [
    {
     "name": "stderr",
     "output_type": "stream",
     "text": [
      "Failed to import jpype dependencies. Fallback to subprocess.\n",
      "No module named 'jpype'\n"
     ]
    },
    {
     "ename": "JavaNotFoundError",
     "evalue": "`java` command is not found from this Python process.Please ensure Java is installed and PATH is set for `java`",
     "output_type": "error",
     "traceback": [
      "\u001b[1;31m---------------------------------------------------------------------------\u001b[0m",
      "\u001b[1;31mFileNotFoundError\u001b[0m                         Traceback (most recent call last)",
      "File \u001b[1;32m~\\AppData\\Roaming\\Python\\Python312\\site-packages\\tabula\\backend.py:122\u001b[0m, in \u001b[0;36mSubprocessTabula.call_tabula_java\u001b[1;34m(self, options, path)\u001b[0m\n\u001b[0;32m    121\u001b[0m \u001b[38;5;28;01mtry\u001b[39;00m:\n\u001b[1;32m--> 122\u001b[0m     result \u001b[38;5;241m=\u001b[39m subprocess\u001b[38;5;241m.\u001b[39mrun(\n\u001b[0;32m    123\u001b[0m         args,\n\u001b[0;32m    124\u001b[0m         stdout\u001b[38;5;241m=\u001b[39msubprocess\u001b[38;5;241m.\u001b[39mPIPE,\n\u001b[0;32m    125\u001b[0m         stderr\u001b[38;5;241m=\u001b[39msubprocess\u001b[38;5;241m.\u001b[39mPIPE,\n\u001b[0;32m    126\u001b[0m         stdin\u001b[38;5;241m=\u001b[39msubprocess\u001b[38;5;241m.\u001b[39mDEVNULL,\n\u001b[0;32m    127\u001b[0m         check\u001b[38;5;241m=\u001b[39m\u001b[38;5;28;01mTrue\u001b[39;00m,\n\u001b[0;32m    128\u001b[0m     )\n\u001b[0;32m    129\u001b[0m     \u001b[38;5;28;01mif\u001b[39;00m result\u001b[38;5;241m.\u001b[39mstderr:\n",
      "File \u001b[1;32mC:\\ProgramData\\anaconda3\\Lib\\subprocess.py:548\u001b[0m, in \u001b[0;36mrun\u001b[1;34m(input, capture_output, timeout, check, *popenargs, **kwargs)\u001b[0m\n\u001b[0;32m    546\u001b[0m     kwargs[\u001b[38;5;124m'\u001b[39m\u001b[38;5;124mstderr\u001b[39m\u001b[38;5;124m'\u001b[39m] \u001b[38;5;241m=\u001b[39m PIPE\n\u001b[1;32m--> 548\u001b[0m \u001b[38;5;28;01mwith\u001b[39;00m Popen(\u001b[38;5;241m*\u001b[39mpopenargs, \u001b[38;5;241m*\u001b[39m\u001b[38;5;241m*\u001b[39mkwargs) \u001b[38;5;28;01mas\u001b[39;00m process:\n\u001b[0;32m    549\u001b[0m     \u001b[38;5;28;01mtry\u001b[39;00m:\n",
      "File \u001b[1;32mC:\\ProgramData\\anaconda3\\Lib\\subprocess.py:1026\u001b[0m, in \u001b[0;36mPopen.__init__\u001b[1;34m(self, args, bufsize, executable, stdin, stdout, stderr, preexec_fn, close_fds, shell, cwd, env, universal_newlines, startupinfo, creationflags, restore_signals, start_new_session, pass_fds, user, group, extra_groups, encoding, errors, text, umask, pipesize, process_group)\u001b[0m\n\u001b[0;32m   1023\u001b[0m             \u001b[38;5;28mself\u001b[39m\u001b[38;5;241m.\u001b[39mstderr \u001b[38;5;241m=\u001b[39m io\u001b[38;5;241m.\u001b[39mTextIOWrapper(\u001b[38;5;28mself\u001b[39m\u001b[38;5;241m.\u001b[39mstderr,\n\u001b[0;32m   1024\u001b[0m                     encoding\u001b[38;5;241m=\u001b[39mencoding, errors\u001b[38;5;241m=\u001b[39merrors)\n\u001b[1;32m-> 1026\u001b[0m     \u001b[38;5;28mself\u001b[39m\u001b[38;5;241m.\u001b[39m_execute_child(args, executable, preexec_fn, close_fds,\n\u001b[0;32m   1027\u001b[0m                         pass_fds, cwd, env,\n\u001b[0;32m   1028\u001b[0m                         startupinfo, creationflags, shell,\n\u001b[0;32m   1029\u001b[0m                         p2cread, p2cwrite,\n\u001b[0;32m   1030\u001b[0m                         c2pread, c2pwrite,\n\u001b[0;32m   1031\u001b[0m                         errread, errwrite,\n\u001b[0;32m   1032\u001b[0m                         restore_signals,\n\u001b[0;32m   1033\u001b[0m                         gid, gids, uid, umask,\n\u001b[0;32m   1034\u001b[0m                         start_new_session, process_group)\n\u001b[0;32m   1035\u001b[0m \u001b[38;5;28;01mexcept\u001b[39;00m:\n\u001b[0;32m   1036\u001b[0m     \u001b[38;5;66;03m# Cleanup if the child failed starting.\u001b[39;00m\n",
      "File \u001b[1;32mC:\\ProgramData\\anaconda3\\Lib\\subprocess.py:1538\u001b[0m, in \u001b[0;36mPopen._execute_child\u001b[1;34m(self, args, executable, preexec_fn, close_fds, pass_fds, cwd, env, startupinfo, creationflags, shell, p2cread, p2cwrite, c2pread, c2pwrite, errread, errwrite, unused_restore_signals, unused_gid, unused_gids, unused_uid, unused_umask, unused_start_new_session, unused_process_group)\u001b[0m\n\u001b[0;32m   1537\u001b[0m \u001b[38;5;28;01mtry\u001b[39;00m:\n\u001b[1;32m-> 1538\u001b[0m     hp, ht, pid, tid \u001b[38;5;241m=\u001b[39m _winapi\u001b[38;5;241m.\u001b[39mCreateProcess(executable, args,\n\u001b[0;32m   1539\u001b[0m                              \u001b[38;5;66;03m# no special security\u001b[39;00m\n\u001b[0;32m   1540\u001b[0m                              \u001b[38;5;28;01mNone\u001b[39;00m, \u001b[38;5;28;01mNone\u001b[39;00m,\n\u001b[0;32m   1541\u001b[0m                              \u001b[38;5;28mint\u001b[39m(\u001b[38;5;129;01mnot\u001b[39;00m close_fds),\n\u001b[0;32m   1542\u001b[0m                              creationflags,\n\u001b[0;32m   1543\u001b[0m                              env,\n\u001b[0;32m   1544\u001b[0m                              cwd,\n\u001b[0;32m   1545\u001b[0m                              startupinfo)\n\u001b[0;32m   1546\u001b[0m \u001b[38;5;28;01mfinally\u001b[39;00m:\n\u001b[0;32m   1547\u001b[0m     \u001b[38;5;66;03m# Child is launched. Close the parent's copy of those pipe\u001b[39;00m\n\u001b[0;32m   1548\u001b[0m     \u001b[38;5;66;03m# handles that only the child should have open.  You need\u001b[39;00m\n\u001b[1;32m   (...)\u001b[0m\n\u001b[0;32m   1551\u001b[0m     \u001b[38;5;66;03m# pipe will not close when the child process exits and the\u001b[39;00m\n\u001b[0;32m   1552\u001b[0m     \u001b[38;5;66;03m# ReadFile will hang.\u001b[39;00m\n",
      "\u001b[1;31mFileNotFoundError\u001b[0m: [WinError 2] The system cannot find the file specified",
      "\nDuring handling of the above exception, another exception occurred:\n",
      "\u001b[1;31mJavaNotFoundError\u001b[0m                         Traceback (most recent call last)",
      "Cell \u001b[1;32mIn[3], line 1\u001b[0m\n\u001b[1;32m----> 1\u001b[0m df \u001b[38;5;241m=\u001b[39m read_pdf(\u001b[38;5;124mr\u001b[39m\u001b[38;5;124m\"\u001b[39m\u001b[38;5;124mC:\u001b[39m\u001b[38;5;124m\\\u001b[39m\u001b[38;5;124mUsers\u001b[39m\u001b[38;5;124m\\\u001b[39m\u001b[38;5;124mzineb\u001b[39m\u001b[38;5;124m\\\u001b[39m\u001b[38;5;124mDownloads\u001b[39m\u001b[38;5;124m\\\u001b[39m\u001b[38;5;124mAcc_Statement.pdf\u001b[39m\u001b[38;5;124m\"\u001b[39m, pages\u001b[38;5;241m=\u001b[39m\u001b[38;5;124m\"\u001b[39m\u001b[38;5;124mall\u001b[39m\u001b[38;5;124m\"\u001b[39m)\n\u001b[0;32m      2\u001b[0m \u001b[38;5;28mprint\u001b[39m(df[\u001b[38;5;241m0\u001b[39m])\n",
      "File \u001b[1;32m~\\AppData\\Roaming\\Python\\Python312\\site-packages\\tabula\\io.py:400\u001b[0m, in \u001b[0;36mread_pdf\u001b[1;34m(input_path, output_format, encoding, java_options, pandas_options, multiple_tables, user_agent, use_raw_url, pages, guess, area, relative_area, lattice, stream, password, silent, columns, relative_columns, format, batch, output_path, force_subprocess, options)\u001b[0m\n\u001b[0;32m    397\u001b[0m     \u001b[38;5;28;01mraise\u001b[39;00m \u001b[38;5;167;01mValueError\u001b[39;00m(\u001b[38;5;124mf\u001b[39m\u001b[38;5;124m\"\u001b[39m\u001b[38;5;132;01m{\u001b[39;00mpath\u001b[38;5;132;01m}\u001b[39;00m\u001b[38;5;124m is empty. Check the file, or download it manually.\u001b[39m\u001b[38;5;124m\"\u001b[39m)\n\u001b[0;32m    399\u001b[0m \u001b[38;5;28;01mtry\u001b[39;00m:\n\u001b[1;32m--> 400\u001b[0m     output \u001b[38;5;241m=\u001b[39m _run(\n\u001b[0;32m    401\u001b[0m         tabula_options,\n\u001b[0;32m    402\u001b[0m         java_options,\n\u001b[0;32m    403\u001b[0m         path,\n\u001b[0;32m    404\u001b[0m         encoding\u001b[38;5;241m=\u001b[39mencoding,\n\u001b[0;32m    405\u001b[0m         force_subprocess\u001b[38;5;241m=\u001b[39mforce_subprocess,\n\u001b[0;32m    406\u001b[0m     )\n\u001b[0;32m    407\u001b[0m \u001b[38;5;28;01mfinally\u001b[39;00m:\n\u001b[0;32m    408\u001b[0m     \u001b[38;5;28;01mif\u001b[39;00m temporary:\n",
      "File \u001b[1;32m~\\AppData\\Roaming\\Python\\Python312\\site-packages\\tabula\\io.py:86\u001b[0m, in \u001b[0;36m_run\u001b[1;34m(options, java_options, path, encoding, force_subprocess)\u001b[0m\n\u001b[0;32m     83\u001b[0m \u001b[38;5;28;01melif\u001b[39;00m \u001b[38;5;28mset\u001b[39m(java_options) \u001b[38;5;241m-\u001b[39m IGNORED_JAVA_OPTIONS:\n\u001b[0;32m     84\u001b[0m     logger\u001b[38;5;241m.\u001b[39mwarning(\u001b[38;5;124m\"\u001b[39m\u001b[38;5;124mjava_options is ignored until rebooting the Python process.\u001b[39m\u001b[38;5;124m\"\u001b[39m)\n\u001b[1;32m---> 86\u001b[0m \u001b[38;5;28;01mreturn\u001b[39;00m _tabula_vm\u001b[38;5;241m.\u001b[39mcall_tabula_java(options, path)\n",
      "File \u001b[1;32m~\\AppData\\Roaming\\Python\\Python312\\site-packages\\tabula\\backend.py:133\u001b[0m, in \u001b[0;36mSubprocessTabula.call_tabula_java\u001b[1;34m(self, options, path)\u001b[0m\n\u001b[0;32m    131\u001b[0m     \u001b[38;5;28;01mreturn\u001b[39;00m result\u001b[38;5;241m.\u001b[39mstdout\u001b[38;5;241m.\u001b[39mdecode(\u001b[38;5;28mself\u001b[39m\u001b[38;5;241m.\u001b[39mencoding)\n\u001b[0;32m    132\u001b[0m \u001b[38;5;28;01mexcept\u001b[39;00m \u001b[38;5;167;01mFileNotFoundError\u001b[39;00m:\n\u001b[1;32m--> 133\u001b[0m     \u001b[38;5;28;01mraise\u001b[39;00m JavaNotFoundError(JAVA_NOT_FOUND_ERROR)\n\u001b[0;32m    134\u001b[0m \u001b[38;5;28;01mexcept\u001b[39;00m subprocess\u001b[38;5;241m.\u001b[39mCalledProcessError \u001b[38;5;28;01mas\u001b[39;00m e:\n\u001b[0;32m    135\u001b[0m     logger\u001b[38;5;241m.\u001b[39merror(\u001b[38;5;124mf\u001b[39m\u001b[38;5;124m\"\u001b[39m\u001b[38;5;124mError from tabula-java:\u001b[39m\u001b[38;5;130;01m\\n\u001b[39;00m\u001b[38;5;132;01m{\u001b[39;00me\u001b[38;5;241m.\u001b[39mstderr\u001b[38;5;241m.\u001b[39mdecode(\u001b[38;5;28mself\u001b[39m\u001b[38;5;241m.\u001b[39mencoding)\u001b[38;5;132;01m}\u001b[39;00m\u001b[38;5;130;01m\\n\u001b[39;00m\u001b[38;5;124m\"\u001b[39m)\n",
      "\u001b[1;31mJavaNotFoundError\u001b[0m: `java` command is not found from this Python process.Please ensure Java is installed and PATH is set for `java`"
     ]
    }
   ],
   "source": [
    "df = read_pdf(r\"C:\\Users\\zineb\\Downloads\\Acc_Statement.pdf\", pages=\"all\")\n",
    "print(df[0])"
   ]
  },
  {
   "cell_type": "code",
   "execution_count": null,
   "id": "0ea637f4-f76d-453d-9bb8-b387c939dde1",
   "metadata": {},
   "outputs": [],
   "source": []
  }
 ],
 "metadata": {
  "kernelspec": {
   "display_name": "Python [conda env:base] *",
   "language": "python",
   "name": "conda-base-py"
  },
  "language_info": {
   "codemirror_mode": {
    "name": "ipython",
    "version": 3
   },
   "file_extension": ".py",
   "mimetype": "text/x-python",
   "name": "python",
   "nbconvert_exporter": "python",
   "pygments_lexer": "ipython3",
   "version": "3.12.7"
  }
 },
 "nbformat": 4,
 "nbformat_minor": 5
}
